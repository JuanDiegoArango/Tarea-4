{
 "metadata": {
  "name": "",
  "signature": "sha256:bf131086e16a4feea8aa1ba18df752ebf13ef7fc561daa1718281b4f50db7188"
 },
 "nbformat": 3,
 "nbformat_minor": 0,
 "worksheets": [
  {
   "cells": [
    {
     "cell_type": "code",
     "collapsed": false,
     "input": [
      "import numpy as np\n",
      "import os\n",
      "from StringIO import StringIO\n",
      "import matplotlib.pyplot as plt\n",
      "\n",
      "def transponer(a):\n",
      "    y=len(a)\n",
      "    x=len(a[0])\n",
      "    b= np.zeros((x,y))\n",
      "    for i in range  (0,x):\n",
      "        for j in range (0,y):\n",
      "            b[i][j]=a[j][i]\n",
      "    return b\n",
      "\n",
      "def multiplicar(a,b):\n",
      "    xa=len(a)\n",
      "    ya=len(a[0])\n",
      "    xb=len(b)\n",
      "    yb=len(b[0])\n",
      "    c= np.zeros((xa,yb))\n",
      "    for i in range (0,xa):\n",
      "        for j in range (0,yb):\n",
      "            contador=0\n",
      "            for k in range (0,xb):\n",
      "                contador=contador+a[i][k]*b[k][j]\n",
      "                c[i][j]=contador\n",
      "    return c  \n",
      "\n",
      "def descomposicion_cholesky_para_matriz3X3(a):\n",
      "    l=np.zeros((3,3))\n",
      "    l[0][0]=np.sqrt(a[0][0])\n",
      "    l[1][0]=a[1][0]/l[0][0]\n",
      "    l[2][0]=a[2][0]/l[0][0]\n",
      "    l[1][1]=np.sqrt(a[1][1]-(l[1][0])**2)\n",
      "    l[2][1]=(a[2][1]-l[2][0]*l[1][0])/l[1][1]\n",
      "    l[2][2]=np.sqrt(a[2][2]-(l[2][1]**2+l[2][0]**2))\n",
      "    return l\n",
      "\n",
      "def resolver_l(matriz,vector):\n",
      "    a=len(vector)\n",
      "    for i in range(0,a):\n",
      "        vector[a-1-i][0]=vector[a-1-i][0]/matriz[a-1-i][a-1-i]\n",
      "        for j in range (0,a-1-i):\n",
      "            vector[j][0]=vector[j][0]-vector[a-1-i][0]*matriz[j][a-1-i]\n",
      "    return vector\n",
      "\n",
      "def resolver_l_transpuesta(matriz,vector):\n",
      "    a=len(vector)\n",
      "    for i in range(0,a):\n",
      "        vector[i][0]=vector[i][0]/matriz[i][i]\n",
      "        for j in range (i,a-1):\n",
      "            k=j+1\n",
      "            vector[k][0]=vector[k][0]-vector[i][0]*matriz[k][i]\n",
      "    return vector\n",
      "\n",
      "def encontrar_ruido(a):\n",
      "    respuesta=0\n",
      "    maximo=0\n",
      "    for i in range (0,len(Posicion)):\n",
      "        if (Posicion[i][0]==max(Posicion)):\n",
      "            maximo = i\n",
      "            break\n",
      "    for i in range (1,maximo-1):\n",
      "        if (a[i-1]<a[i])&(a[i]<a[i+1]):\n",
      "            respuesta=1\n",
      "        else:\n",
      "            respuesta=0\n",
      "            break  \n",
      "    return respuesta\n",
      "\n",
      "def descomposicion_cholesky_para_matriz2X2(a):\n",
      "    l=np.zeros((2,2))\n",
      "    l[0][0]=np.sqrt(a[0][0])\n",
      "    l[1][0]=a[1][0]/l[0][0]\n",
      "    l[1][1]=np.sqrt(a[1][1]-(l[1][0])**2)\n",
      "    return l\n",
      "    "
     ],
     "language": "python",
     "metadata": {},
     "outputs": [],
     "prompt_number": 67
    },
    {
     "cell_type": "code",
     "collapsed": false,
     "input": [
      "G=open(\"Los_datos_en_el_siguiente_orden_de_theta_phi_gravedad_velocidad_posicion\",'w')\n",
      "archivos =!ls Brahe-3141-f\n",
      "longitud=len(archivos)\n",
      "gravedad=np.empty(0)\n",
      "theta=np.empty(0)\n",
      "for j in range (0,longitud):\n",
      "    Informacion_experimental=np.zeros((38,3))\n",
      "    Posicion=np.zeros((38,1))\n",
      "    f=open(\"Brahe-3141-f\"+os.path.sep+archivos[j]+\"\",'r')\n",
      "    for i in range (0,38): \n",
      "        a=f.readline()\n",
      "        b=StringIO(a)\n",
      "        casilla=np.loadtxt(b)\n",
      "        Informacion_experimental[i][0]=(float(casilla[0])**2)/2\n",
      "        Informacion_experimental[i][1]=float(casilla[0])\n",
      "        Informacion_experimental[i][2]=1\n",
      "        Posicion[i][0]=float(casilla[1])\n",
      "    f.close()\n",
      "    \n",
      "    if (encontrar_ruido(Posicion)==1):\n",
      "        Informacion_transpuesta=transponer(Informacion_experimental)\n",
      "        Matriz_multiplicada=multiplicar(Informacion_transpuesta,Informacion_experimental)\n",
      "        Matriz_Cholesky=descomposicion_cholesky_para_matriz3X3(Matriz_multiplicada)\n",
      "        Cholesky_transpuesta=transponer(Matriz_Cholesky)\n",
      "        b=multiplicar(Informacion_transpuesta,Posicion)\n",
      "        a=resolver_l_transpuesta(Matriz_Cholesky,b)\n",
      "        c=resolver_l(Cholesky_transpuesta,a)\n",
      "        b=(archivos[j]).split(\"_\")\n",
      "        G.write(\"%f  %f  %f  %f  %f\\n\" %(float(b[2]),float(b[4].strip('.dat')),c[0],c[1],c[2]))\n",
      "        gravedad=np.append(gravedad,c[0])\n",
      "        theta=np.append(theta,float(b[2]))\n",
      "G.close()\n",
      "fluctuaciones=(gravedad.mean()-gravedad)/gravedad.mean()\n"
     ],
     "language": "python",
     "metadata": {},
     "outputs": [],
     "prompt_number": 68
    },
    {
     "cell_type": "code",
     "collapsed": false,
     "input": [
      "plt.figure()\n",
      "plt.scatter(theta,gravedad)\n",
      "plt.xlabel('theta')\n",
      "plt.ylabel('gravedad')\n",
      "plt.title('gravedad con el cambio del angulo theta')\n",
      "plt.show()"
     ],
     "language": "python",
     "metadata": {},
     "outputs": [],
     "prompt_number": 23
    },
    {
     "cell_type": "code",
     "collapsed": false,
     "input": [
      "plt.scatter(theta,fluctuaciones)\n",
      "plt.xlabel('theta')\n",
      "plt.ylabel('fluctuaciones')\n",
      "plt.title('fluctuaciones con el cambio del angulo theta')\n",
      "plt.show()"
     ],
     "language": "python",
     "metadata": {},
     "outputs": [],
     "prompt_number": 24
    },
    {
     "cell_type": "code",
     "collapsed": false,
     "input": [
      "A0=np.cos(2*theta)\n",
      "B0=theta**2\n",
      "B1=theta\n",
      "Fluctuaciones=np.zeros((len(A0),1))\n",
      "Matriz_fluctuaciones_1=np.zeros((len(A0),2))\n",
      "Matriz_fluctuaciones_2=np.zeros((len(B0),3))\n",
      "for i in range (0,len(A0)):\n",
      "    Fluctuaciones[i][0]=fluctuaciones[i]\n",
      "    Matriz_fluctuaciones_1[i][0]=A0[i]\n",
      "    Matriz_fluctuaciones_1[i][1]=1\n",
      "    Matriz_fluctuaciones_2[i][0]=B0[i]\n",
      "    Matriz_fluctuaciones_2[i][1]=B1[i]  \n",
      "    Matriz_fluctuaciones_2[i][2]=1\n",
      " \n",
      "    \n",
      "    \n",
      "Matriz_fluctuaciones_2_transpuesta=transponer(Matriz_fluctuaciones_2)\n",
      "Matriz_multiplicada=multiplicar(Matriz_fluctuaciones_2_transpuesta,Matriz_fluctuaciones_2)\n",
      "Matriz_Cholesky=descomposicion_cholesky_para_matriz3X3(Matriz_multiplicada)\n",
      "Cholesky_transpuesta=transponer(Matriz_Cholesky)\n",
      "b=multiplicar(Matriz_fluctuaciones_2_transpuesta,Fluctuaciones)\n",
      "a=resolver_l_transpuesta(Matriz_Cholesky,b)\n",
      "Constantes_2=resolver_l(Cholesky_transpuesta,a)\n",
      "\n",
      "Matriz_fluctuaciones_1_transpuesta=transponer(Matriz_fluctuaciones_1)\n",
      "Matriz_multiplicada=multiplicar(Matriz_fluctuaciones_1_transpuesta,Matriz_fluctuaciones_1)\n",
      "Matriz_Cholesky=descomposicion_cholesky_para_matriz2X2(Matriz_multiplicada)\n",
      "Cholesky_transpuesta=transponer(Matriz_Cholesky)\n",
      "b=multiplicar(Matriz_fluctuaciones_1_transpuesta,Fluctuaciones)\n",
      "a=resolver_l_transpuesta(Matriz_Cholesky,b)\n",
      "Constantes_1=resolver_l(Cholesky_transpuesta,a)\n"
     ],
     "language": "python",
     "metadata": {},
     "outputs": [],
     "prompt_number": 70
    },
    {
     "cell_type": "code",
     "collapsed": false,
     "input": [
      "a=Constantes_2[0]*theta**2+Constantes_2[1]*theta+Constantes_2[2]\n",
      "print abs((fluctuaciones-a)/fluctuaciones).mean()*100\n"
     ],
     "language": "python",
     "metadata": {},
     "outputs": [
      {
       "output_type": "stream",
       "stream": "stdout",
       "text": [
        "72.3056519236\n"
       ]
      }
     ],
     "prompt_number": 64
    },
    {
     "cell_type": "code",
     "collapsed": false,
     "input": [
      "b=Constantes_1[0]*np.cos(2*theta)+Constantes_1[1]\n",
      "print abs((fluctuaciones-b)/fluctuaciones).mean()*100\n"
     ],
     "language": "python",
     "metadata": {},
     "outputs": [
      {
       "output_type": "stream",
       "stream": "stdout",
       "text": [
        "99.9215941668\n"
       ]
      }
     ],
     "prompt_number": 65
    },
    {
     "cell_type": "code",
     "collapsed": false,
     "input": [],
     "language": "python",
     "metadata": {},
     "outputs": [],
     "prompt_number": 69
    },
    {
     "cell_type": "code",
     "collapsed": false,
     "input": [],
     "language": "python",
     "metadata": {},
     "outputs": []
    }
   ],
   "metadata": {}
  }
 ]
}