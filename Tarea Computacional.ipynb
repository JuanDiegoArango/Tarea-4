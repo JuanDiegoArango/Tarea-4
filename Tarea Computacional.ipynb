{
 "metadata": {
  "name": "",
  "signature": "sha256:5eee5ebd82b04c52f2516736b542870658448030e5d9bc65d1f1fe25cb62228e"
 },
 "nbformat": 3,
 "nbformat_minor": 0,
 "worksheets": [
  {
   "cells": [
    {
     "cell_type": "heading",
     "level": 1,
     "metadata": {},
     "source": [
      "Tarea 4\n"
     ]
    },
    {
     "cell_type": "heading",
     "level": 5,
     "metadata": {},
     "source": [
      "Juan Diego Arango (201223691)"
     ]
    },
    {
     "cell_type": "code",
     "collapsed": false,
     "input": [
      "import os\n",
      "from StringIO import StringIO\n",
      "%pylab inline"
     ],
     "language": "python",
     "metadata": {},
     "outputs": [
      {
       "output_type": "stream",
       "stream": "stdout",
       "text": [
        "Populating the interactive namespace from numpy and matplotlib\n"
       ]
      }
     ],
     "prompt_number": 135
    },
    {
     "cell_type": "markdown",
     "metadata": {},
     "source": [
      "Se crean 7 funciones necesarias para el analisis de los datos: una para transponer los datos cuando son organizados de manera matrician matricial, una para multiplicar matrices, una para realizar descomposiciones de cholesky para matrices 2x2 y 3x3 ya que mayores ordenes para este caso no son necesarios,dos funciones para resolver sistemas trangular y triangular inferior y la funcion para reconocer ruido. El ruido se reconoce de la siguiente manera: se encuentra el maximo del conjunto de puntos y se observa primero si todos en ese intervalo del conjunto los puntos cumplen a condicion de que el anterior es menor y el siguiente es mayor, luego se mira que despues del maximo el punto anterior es mayor y el previo menor.Como se supone que se comporta una parabola debe seguir ese comportamiento si no lo hace entonces se toma como corrupto y la funcion retorna un 0, en caso de si cumplir la condicion retorna un 1."
     ]
    },
    {
     "cell_type": "code",
     "collapsed": false,
     "input": [
      "def transponer(a):\n",
      "    y=len(a)\n",
      "    x=len(a[0])\n",
      "    b= zeros((x,y))\n",
      "    for i in range  (0,x):\n",
      "        for j in range (0,y):\n",
      "            b[i][j]=a[j][i]\n",
      "    return b\n",
      "\n",
      "def multiplicar(a,b):\n",
      "    xa=len(a)\n",
      "    ya=len(a[0])\n",
      "    xb=len(b)\n",
      "    yb=len(b[0])\n",
      "    c= np.zeros((xa,yb))\n",
      "    for i in range (0,xa):\n",
      "        for j in range (0,yb):\n",
      "            contador=0\n",
      "            for k in range (0,xb):\n",
      "                contador=contador+a[i][k]*b[k][j]\n",
      "                c[i][j]=contador\n",
      "    return c  \n",
      "\n",
      "def descomposicion_cholesky_para_matriz3X3(a):\n",
      "    l=np.zeros((3,3))\n",
      "    l[0][0]=sqrt(a[0][0])\n",
      "    l[1][0]=a[1][0]/l[0][0]\n",
      "    l[2][0]=a[2][0]/l[0][0]\n",
      "    l[1][1]=sqrt(a[1][1]-(l[1][0])**2)\n",
      "    l[2][1]=(a[2][1]-l[2][0]*l[1][0])/l[1][1]\n",
      "    l[2][2]=sqrt(a[2][2]-(l[2][1]**2+l[2][0]**2))\n",
      "    return l\n",
      "\n",
      "def resolver_l(matriz,vector):\n",
      "    a=len(vector)\n",
      "    for i in range(0,a):\n",
      "        vector[a-1-i][0]=vector[a-1-i][0]/matriz[a-1-i][a-1-i]\n",
      "        for j in range (0,a-1-i):\n",
      "            vector[j][0]=vector[j][0]-vector[a-1-i][0]*matriz[j][a-1-i]\n",
      "    return vector\n",
      "\n",
      "def resolver_l_transpuesta(matriz,vector):\n",
      "    a=len(vector)\n",
      "    for i in range(0,a):\n",
      "        vector[i][0]=vector[i][0]/matriz[i][i]\n",
      "        for j in range (i,a-1):\n",
      "            k=j+1\n",
      "            vector[k][0]=vector[k][0]-vector[i][0]*matriz[k][i]\n",
      "    return vector\n",
      "\n",
      "def encontrar_ruido(a):\n",
      "    respuesta=0\n",
      "    maximo=0\n",
      "    for i in range (0,len(Posicion)):\n",
      "        if (Posicion[i][0]==max(Posicion)):\n",
      "            maximo = i\n",
      "            break\n",
      "    for i in range (1,maximo-1):\n",
      "        if (a[i-1]<a[i])&(a[i]<a[i+1]):\n",
      "            respuesta=1\n",
      "        else:\n",
      "            respuesta=0\n",
      "            break  \n",
      "    for i in range (maximo+1,len(Posicion)-1):\n",
      "        if (a[i-1]>a[i])&(a[i]>a[i+1]):\n",
      "            respuesta=1\n",
      "        else:\n",
      "            respuesta=0\n",
      "            break  \n",
      "    return respuesta\n",
      "\n",
      "def descomposicion_cholesky_para_matriz2X2(a):\n",
      "    l=zeros((2,2))\n",
      "    l[0][0]=sqrt(a[0][0])\n",
      "    l[1][0]=a[1][0]/l[0][0]\n",
      "    l[1][1]=sqrt(a[1][1]-(l[1][0])**2)\n",
      "    return l\n",
      "    "
     ],
     "language": "python",
     "metadata": {},
     "outputs": [],
     "prompt_number": 136
    },
    {
     "cell_type": "markdown",
     "metadata": {},
     "source": [
      "En el zip que se descarga de git junto con este programa hay una capeta con el nombre \"Brahe-3141-f\" entonces se usa Unix para encontrar la  carpeta y hacer una lista con el nombre de los archivos que contiene. Se abre cada archivo y se hace un array con los valores de posicion que da el arhivo y una matriz con informacion del tiempo,se toma la matriz de tiempo, se transpone y se multiplica por ella al array de poscion como si este fuera un vector y tambien la matriz de tiempo original se multiplica por su transpuesta. Esto deja un sistem 3x3 simetrico entonces se usa la descomposicon de cholesky para simplificar todo en dos matrices trinagulo superior e inferior. Se usan las dos rutinas obtenidas para resolver esas dos matrices y se obtienen los parametros que mas se ajusta, los cuales se esciben en un arhivo junto con los angulos y la gravedad y el angulo theta se guardan en dos array para ser usados despues.El archivo con los datos tiene el nombre \"Los_Datos.dat\" y la informacion tiene el siguiente orden: theta,phi,gravedad,velocidad inicial y posicion inicial. Para identificar a los archivos corruptos se toma ese array de posciones y se evalua la funcion que se encarga de buscar si es corrupto, si lo es se no se guarda su informacion un array que almacena gravedas y theta ,si no lo es si se guarda en los arrays."
     ]
    },
    {
     "cell_type": "code",
     "collapsed": false,
     "input": [
      "G=open(\"Los_Datos.dat\",'w')\n",
      "archivos =!ls Brahe-3141-f\n",
      "longitud=len(archivos)\n",
      "gravedad=empty(0)\n",
      "theta=empty(0)\n",
      "for j in range (0,longitud):\n",
      "    Informacion_experimental=np.zeros((38,3))\n",
      "    Posicion=zeros((38,1))\n",
      "    f=open(\"Brahe-3141-f\"+os.path.sep+archivos[j]+\"\",'r')\n",
      "    for i in range (0,38): \n",
      "        a=f.readline()\n",
      "        b=StringIO(a)\n",
      "        casilla=loadtxt(b)\n",
      "        Informacion_experimental[i][0]=(float(casilla[0])**2)/2\n",
      "        Informacion_experimental[i][1]=float(casilla[0])\n",
      "        Informacion_experimental[i][2]=1\n",
      "        Posicion[i][0]=float(casilla[1])\n",
      "    f.close()\n",
      "    Informacion_transpuesta=transponer(Informacion_experimental)\n",
      "    Matriz_multiplicada=multiplicar(Informacion_transpuesta,Informacion_experimental)\n",
      "    Matriz_Cholesky=descomposicion_cholesky_para_matriz3X3(Matriz_multiplicada)\n",
      "    Cholesky_transpuesta=transponer(Matriz_Cholesky)\n",
      "    b=multiplicar(Informacion_transpuesta,Posicion)\n",
      "    a=resolver_l_transpuesta(Matriz_Cholesky,b)\n",
      "    c=resolver_l(Cholesky_transpuesta,a)\n",
      "    b=(archivos[j]).split(\"_\")\n",
      "    G.write(\"%f  %f  %f  %f  %f\\n\" %(float(b[2]),float(b[4].strip('.dat')),c[0],c[1],c[2]))\n",
      "    if (encontrar_ruido(Posicion)==1):\n",
      "        gravedad=append(gravedad,c[0])\n",
      "        theta=append(theta,float(b[2]))\n",
      "G.close()"
     ],
     "language": "python",
     "metadata": {},
     "outputs": [],
     "prompt_number": 137
    },
    {
     "cell_type": "heading",
     "level": 3,
     "metadata": {},
     "source": [
      "Graficas\n"
     ]
    },
    {
     "cell_type": "markdown",
     "metadata": {},
     "source": [
      "Se arreglan los datos para que esten en orden para graficar"
     ]
    },
    {
     "cell_type": "code",
     "collapsed": false,
     "input": [
      "a=theta.argsort()\n",
      "theta=theta[a]\n",
      "gravedad=gravedad[a]\n"
     ],
     "language": "python",
     "metadata": {},
     "outputs": [],
     "prompt_number": 138
    },
    {
     "cell_type": "markdown",
     "metadata": {},
     "source": [
      "Rutina que hace la grafica gravedad con angulo."
     ]
    },
    {
     "cell_type": "code",
     "collapsed": false,
     "input": [
      "plot(theta,abs(gravedad))\n",
      "xlabel('Grados')\n",
      "ylabel('Gravedad')\n",
      "title('Gravedad con el cambio del angulo theta')\n",
      "show()"
     ],
     "language": "python",
     "metadata": {},
     "outputs": [
      {
       "metadata": {},
       "output_type": "display_data",
       "png": "[encoded data removed]",
       "text": [
        "<matplotlib.figure.Figure at 0x106253d90>"
       ]
      }
     ],
     "prompt_number": 139
    },
    {
     "cell_type": "markdown",
     "metadata": {},
     "source": [
      "Se se obtiene un array de fluctuaciones. Se usa la rutina para que hacer la grafica las fluctuaciones con angulo."
     ]
    },
    {
     "cell_type": "code",
     "collapsed": false,
     "input": [
      "fluctuaciones=1-(gravedad/gravedad.mean())\n",
      "plot(theta,fluctuaciones)\n",
      "xlabel('Grados')\n",
      "ylabel('Fluctuacion de la gravedad')\n",
      "title('Fluctuacion de la gravead con respecto al angulo theta')\n",
      "show()\n"
     ],
     "language": "python",
     "metadata": {},
     "outputs": [
      {
       "metadata": {},
       "output_type": "display_data",
       "png": "[encoded data removed]",
       "text": [
        "<matplotlib.figure.Figure at 0x1061fd1d0>"
       ]
      }
     ],
     "prompt_number": 140
    },
    {
     "cell_type": "markdown",
     "metadata": {},
     "source": [
      "Se crea dos matrices, cada una en relacion a uno de los dos modelos, para el modelo uno esta Matriz_fluctuaciones_1 y para el modelo dos esta  Matriz_fluctuaciones_2. Se repite el procedimiento de minimos cuadrados para las dos y se obtiene los respectivos coeficientes que mas se ajustan a cada modelo."
     ]
    },
    {
     "cell_type": "heading",
     "level": 3,
     "metadata": {},
     "source": [
      "Comparacion de modelos\n"
     ]
    },
    {
     "cell_type": "code",
     "collapsed": false,
     "input": [
      "A0=np.cos(2.0*theta*pi/180.0)\n",
      "B0=theta**2\n",
      "B1=theta\n",
      "Fluctuaciones=zeros((len(A0),1))\n",
      "Matriz_fluctuaciones_1=zeros((len(A0),2))\n",
      "Matriz_fluctuaciones_2=zeros((len(B0),3))\n",
      "for i in range (0,len(A0)):\n",
      "    Fluctuaciones[i][0]=fluctuaciones[i]\n",
      "    Matriz_fluctuaciones_1[i][0]=A0[i]\n",
      "    Matriz_fluctuaciones_1[i][1]=1\n",
      "    Matriz_fluctuaciones_2[i][0]=B0[i]\n",
      "    Matriz_fluctuaciones_2[i][1]=B1[i]  \n",
      "    Matriz_fluctuaciones_2[i][2]=1\n",
      "    \n",
      "Matriz_fluctuaciones_1_transpuesta=transponer(Matriz_fluctuaciones_1)\n",
      "Matriz_multiplicada=multiplicar(Matriz_fluctuaciones_1_transpuesta,Matriz_fluctuaciones_1)\n",
      "Matriz_Cholesky=descomposicion_cholesky_para_matriz2X2(Matriz_multiplicada)\n",
      "Cholesky_transpuesta=transponer(Matriz_Cholesky)\n",
      "b=multiplicar(Matriz_fluctuaciones_1_transpuesta,Fluctuaciones)\n",
      "a=resolver_l_transpuesta(Matriz_Cholesky,b)\n",
      "Constantes_1=resolver_l(Cholesky_transpuesta,a)\n",
      "\n",
      "Matriz_fluctuaciones_2_transpuesta=transponer(Matriz_fluctuaciones_2)\n",
      "Matriz_multiplicada=multiplicar(Matriz_fluctuaciones_2_transpuesta,Matriz_fluctuaciones_2)\n",
      "Matriz_Cholesky=descomposicion_cholesky_para_matriz3X3(Matriz_multiplicada)\n",
      "Cholesky_transpuesta=transponer(Matriz_Cholesky)\n",
      "b=multiplicar(Matriz_fluctuaciones_2_transpuesta,Fluctuaciones)\n",
      "a=resolver_l_transpuesta(Matriz_Cholesky,b)\n",
      "Constantes_2=resolver_l(Cholesky_transpuesta,a)\n"
     ],
     "language": "python",
     "metadata": {},
     "outputs": [],
     "prompt_number": 144
    },
    {
     "cell_type": "markdown",
     "metadata": {},
     "source": [
      "Se usa el modelo para obtener los valores de fluctuaciones y se encuentra el porcentaje de error promedio entre el modelo y la realidad. Tambien se observa como varia la gradica de fluctuaciones contra error."
     ]
    },
    {
     "cell_type": "heading",
     "level": 6,
     "metadata": {},
     "source": [
      "Modelo 1"
     ]
    },
    {
     "cell_type": "code",
     "collapsed": false,
     "input": [
      "a=Constantes_1[0]*cos(2.0*theta*pi/180.0)+Constantes_1[1]\n",
      "plot(theta,abs(a-fluctuaciones)/fluctuaciones)\n",
      "xlabel('Grados')\n",
      "ylabel('Error de modelo relativo a medicion')\n",
      "show()\n",
      "abs((fluctuaciones-a)/fluctuaciones).mean()*100\n"
     ],
     "language": "python",
     "metadata": {},
     "outputs": [
      {
       "metadata": {},
       "output_type": "display_data",
       "png": "[encoded data removed]",
       "text": [
        "<matplotlib.figure.Figure at 0x10638f550>"
       ]
      },
      {
       "metadata": {},
       "output_type": "pyout",
       "prompt_number": 145,
       "text": [
        "76.257881153173429"
       ]
      }
     ],
     "prompt_number": 145
    },
    {
     "cell_type": "markdown",
     "metadata": {},
     "source": [
      "Promedio de porcentaje de error\n"
     ]
    },
    {
     "cell_type": "heading",
     "level": 5,
     "metadata": {},
     "source": [
      "Modelo 2"
     ]
    },
    {
     "cell_type": "code",
     "collapsed": false,
     "input": [
      "b=Constantes_2[0]*theta**2+Constantes_2[1]*theta+Constantes_2[2]\n",
      "plot(theta,abs(b-fluctuaciones)/fluctuaciones)\n",
      "xlabel('Grados')\n",
      "ylabel('Error de modelo relativo a medicion')\n",
      "show()\n",
      "abs((fluctuaciones-b)/fluctuaciones).mean()*100\n"
     ],
     "language": "python",
     "metadata": {},
     "outputs": [
      {
       "metadata": {},
       "output_type": "display_data",
       "png": "[encoded data removed]",
       "text": [
        "<matplotlib.figure.Figure at 0x10622eb50>"
       ]
      },
      {
       "metadata": {},
       "output_type": "pyout",
       "prompt_number": 146,
       "text": [
        "72.305651923060225"
       ]
      }
     ],
     "prompt_number": 146
    },
    {
     "cell_type": "markdown",
     "metadata": {},
     "source": [
      "Promedio de porcentaje de error\n"
     ]
    },
    {
     "cell_type": "heading",
     "level": 5,
     "metadata": {},
     "source": [
      "Observando los resutados, el modelo 2 se ajusta mejor que modelo 1, ya que el promedio porcental es menor.Tambien se puede ver que en la grafica de theta contra error de modelo, que hay menos puntos donde divergen en el modelo 2 que en el modelo 1. Se concluye que el modelo 2 es un mejor modelo. "
     ]
    }
   ],
   "metadata": {}
  }
 ]
}