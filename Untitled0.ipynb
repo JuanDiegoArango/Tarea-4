{
 "metadata": {
  "name": "",
  "signature": "sha256:6bf9deb31b8af92539f75a314a8b1cc6844236b157199c7c5c20322b69a44ee4"
 },
 "nbformat": 3,
 "nbformat_minor": 0,
 "worksheets": []
}